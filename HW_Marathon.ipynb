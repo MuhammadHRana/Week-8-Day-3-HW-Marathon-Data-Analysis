{
 "cells": [
  {
   "cell_type": "markdown",
   "metadata": {},
   "source": [
    "### MARATHON HOMEWORK PROBLEMS"
   ]
  },
  {
   "cell_type": "code",
   "execution_count": null,
   "metadata": {},
   "outputs": [],
   "source": [
    "#HW Marathon Data"
   ]
  },
  {
   "cell_type": "code",
   "execution_count": null,
   "metadata": {},
   "outputs": [],
   "source": [
    "#1 How many students were active on the website within the first week?\n"
   ]
  },
  {
   "cell_type": "code",
   "execution_count": 1,
   "metadata": {},
   "outputs": [],
   "source": [
    "from datetime import date\n",
    "import pandas as pd\n",
    "import numpy as np\n"
   ]
  },
  {
   "cell_type": "code",
   "execution_count": 3,
   "metadata": {},
   "outputs": [],
   "source": [
    "marathon = pd.read_csv('marathon_data.csv')\n"
   ]
  },
  {
   "cell_type": "code",
   "execution_count": 4,
   "metadata": {},
   "outputs": [],
   "source": [
    "df= pd.DataFrame(data=marathon, index=None)"
   ]
  },
  {
   "cell_type": "code",
   "execution_count": null,
   "metadata": {},
   "outputs": [],
   "source": [
    "#1 How many male competitors?"
   ]
  },
  {
   "cell_type": "code",
   "execution_count": 8,
   "metadata": {},
   "outputs": [
    {
     "data": {
      "text/plain": [
       "14438"
      ]
     },
     "execution_count": 8,
     "metadata": {},
     "output_type": "execute_result"
    }
   ],
   "source": [
    "male_total = 0\n",
    "for i in df['M/F']:\n",
    "    if i == 'M':\n",
    "        male_total +=1\n",
    "\n",
    "male_total\n"
   ]
  },
  {
   "cell_type": "code",
   "execution_count": null,
   "metadata": {},
   "outputs": [],
   "source": [
    "#2 How many female competitors?"
   ]
  },
  {
   "cell_type": "code",
   "execution_count": 10,
   "metadata": {},
   "outputs": [
    {
     "data": {
      "text/plain": [
       "11972"
      ]
     },
     "execution_count": 10,
     "metadata": {},
     "output_type": "execute_result"
    }
   ],
   "source": [
    "female_total = 0\n",
    "for i in df['M/F']:\n",
    "    if i == 'F':\n",
    "        female_total +=1\n",
    "\n",
    "female_total\n"
   ]
  },
  {
   "cell_type": "code",
   "execution_count": 26,
   "metadata": {},
   "outputs": [],
   "source": [
    "#3 How quickly do men under the age of 25 complete a marathon?"
   ]
  },
  {
   "cell_type": "code",
   "execution_count": 25,
   "metadata": {},
   "outputs": [
    {
     "name": "stdout",
     "output_type": "stream",
     "text": [
      "The average male 25 and below finished the Marathon in 3.0 hours, 35.0 minutes, and 48.37 seconds !\n"
     ]
    }
   ],
   "source": [
    "def time_convert(x):\n",
    "    h, m, s = map(int, x.split(':'))\n",
    "    return (h*60+m)*60+s\n",
    "\n",
    "\n",
    "male_sum = 0\n",
    "male_counter = 0\n",
    "for i in df.index:\n",
    "    if df['M/F'][i] == 'M':\n",
    "        if df['Age'][i] <= 25:\n",
    "            int_time = time_convert(df['Official Time'][i])\n",
    "            male_sum += int_time\n",
    "            male_counter += 1\n",
    "average_male_marathon = round(male_sum/male_counter, 2)\n",
    "\n",
    "print(f'The average male 25 and below finished the Marathon in {average_male_marathon // 3600} hours, {(average_male_marathon % 3600) // 60} minutes, and {round((average_male_marathon % 3600) % 60, 2)} seconds !')\n",
    "\n"
   ]
  },
  {
   "cell_type": "code",
   "execution_count": null,
   "metadata": {},
   "outputs": [],
   "source": [
    "#4 How quickly do women under the age of 25 complete a marathon?"
   ]
  },
  {
   "cell_type": "code",
   "execution_count": 28,
   "metadata": {},
   "outputs": [
    {
     "name": "stdout",
     "output_type": "stream",
     "text": [
      "The average female 25 and below finished the Marathon in 4.0 hours, 8.0 minutes, and 31.83 seconds !\n"
     ]
    }
   ],
   "source": [
    "female_sum = 0\n",
    "female_counter = 0\n",
    "for i in df.index:\n",
    "    if df['M/F'][i] == 'F':\n",
    "        if df['Age'][i] <= 25:\n",
    "            int_time = time_convert(df['Official Time'][i])\n",
    "            female_sum += int_time\n",
    "            female_counter += 1\n",
    "average_female_marathon = round(female_sum/female_counter, 2)\n",
    "\n",
    "print(f'The average female 25 and below finished the Marathon in {average_female_marathon // 3600} hours, {(average_female_marathon % 3600) // 60} minutes, and {round((average_female_marathon % 3600) % 60, 2)} seconds !')\n",
    "\n"
   ]
  }
 ],
 "metadata": {
  "interpreter": {
   "hash": "e2de53a16e21517cef629587f1aa72842c1a989f7fc6aa0814fb55b8f592aa86"
  },
  "kernelspec": {
   "display_name": "Python 3.9.7 ('january')",
   "language": "python",
   "name": "python3"
  },
  "language_info": {
   "codemirror_mode": {
    "name": "ipython",
    "version": 3
   },
   "file_extension": ".py",
   "mimetype": "text/x-python",
   "name": "python",
   "nbconvert_exporter": "python",
   "pygments_lexer": "ipython3",
   "version": "3.9.7"
  },
  "orig_nbformat": 4
 },
 "nbformat": 4,
 "nbformat_minor": 2
}
